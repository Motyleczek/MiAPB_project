{
 "cells": [
  {
   "cell_type": "code",
   "execution_count": 13,
   "metadata": {},
   "outputs": [],
   "source": [
    "# necessary imports\n",
    "# !pip install pm4py\n",
    "import numpy as np\n",
    "import pandas as pd\n",
    "import matplotlib.pyplot as plt\n",
    "import os\n",
    "import seaborn as sns\n",
    "import pm4py\n",
    "\n",
    "\n",
    "np.random.seed(123)"
   ]
  },
  {
   "attachments": {},
   "cell_type": "markdown",
   "metadata": {},
   "source": [
    "## Import data\n",
    "\n",
    "Specify the names of bpmn diagram (should be stored in bpmn_diagrams), log file (as a csv file, should be stored in logs_folder) and bpmn specifics (should be stored in bpmn_specifics folder as csv files)"
   ]
  },
  {
   "cell_type": "code",
   "execution_count": 70,
   "metadata": {},
   "outputs": [],
   "source": [
    "# EDIT BELOW #\n",
    "##############\n",
    "bpmn_diagram = 'diagram6.bpmn'\n",
    "bpmn_specifics = 'kolokwium.csv'\n",
    "logs = 'TODO'\n",
    "############\n",
    "# END EDIT #\n",
    "\n",
    "path_to_bpmn_diagram = 'bpmn_diagrams/' + bpmn_diagram\n",
    "path_to_specifics = 'bpmn_specifics/' + bpmn_specifics\n",
    "\n",
    "# loading bpmn into python through pm4py\n",
    "bpmn = pm4py.read_bpmn(path_to_bpmn_diagram)\n",
    "# transfomring it into petri net\n",
    "net, im, fm = pm4py.convert_to_petri_net(bpmn)\n",
    "# simulating logs with pm4py\n",
    "log = pm4py.play_out(net, im, fm)\n"
   ]
  },
  {
   "cell_type": "code",
   "execution_count": 71,
   "metadata": {},
   "outputs": [],
   "source": [
    "from pm4py.objects.conversion.log.variants import to_data_frame\n",
    "log_df = to_data_frame.apply(log)"
   ]
  },
  {
   "cell_type": "code",
   "execution_count": 72,
   "metadata": {},
   "outputs": [
    {
     "data": {
      "text/plain": [
       "(2516, 3)"
      ]
     },
     "execution_count": 72,
     "metadata": {},
     "output_type": "execute_result"
    }
   ],
   "source": [
    "log_df.shape"
   ]
  },
  {
   "cell_type": "code",
   "execution_count": 73,
   "metadata": {},
   "outputs": [
    {
     "data": {
      "text/html": [
       "<div>\n",
       "<style scoped>\n",
       "    .dataframe tbody tr th:only-of-type {\n",
       "        vertical-align: middle;\n",
       "    }\n",
       "\n",
       "    .dataframe tbody tr th {\n",
       "        vertical-align: top;\n",
       "    }\n",
       "\n",
       "    .dataframe thead th {\n",
       "        text-align: right;\n",
       "    }\n",
       "</style>\n",
       "<table border=\"1\" class=\"dataframe\">\n",
       "  <thead>\n",
       "    <tr style=\"text-align: right;\">\n",
       "      <th></th>\n",
       "      <th>concept:name</th>\n",
       "      <th>time:timestamp</th>\n",
       "      <th>case:concept:name</th>\n",
       "    </tr>\n",
       "  </thead>\n",
       "  <tbody>\n",
       "    <tr>\n",
       "      <th>0</th>\n",
       "      <td>Display Balance</td>\n",
       "      <td>1970-04-26 18:46:40+00:00</td>\n",
       "      <td>0</td>\n",
       "    </tr>\n",
       "    <tr>\n",
       "      <th>1</th>\n",
       "      <td>Display Balance</td>\n",
       "      <td>1970-04-26 18:46:41+00:00</td>\n",
       "      <td>1</td>\n",
       "    </tr>\n",
       "    <tr>\n",
       "      <th>2</th>\n",
       "      <td>Insert Card</td>\n",
       "      <td>1970-04-26 18:46:42+00:00</td>\n",
       "      <td>2</td>\n",
       "    </tr>\n",
       "    <tr>\n",
       "      <th>3</th>\n",
       "      <td>Select Interaction</td>\n",
       "      <td>1970-04-26 18:46:43+00:00</td>\n",
       "      <td>2</td>\n",
       "    </tr>\n",
       "    <tr>\n",
       "      <th>4</th>\n",
       "      <td>Check For Further Interactions</td>\n",
       "      <td>1970-04-26 18:46:44+00:00</td>\n",
       "      <td>2</td>\n",
       "    </tr>\n",
       "    <tr>\n",
       "      <th>5</th>\n",
       "      <td>Insert Card</td>\n",
       "      <td>1970-04-26 18:46:45+00:00</td>\n",
       "      <td>3</td>\n",
       "    </tr>\n",
       "    <tr>\n",
       "      <th>6</th>\n",
       "      <td>Select Interaction</td>\n",
       "      <td>1970-04-26 18:46:46+00:00</td>\n",
       "      <td>3</td>\n",
       "    </tr>\n",
       "    <tr>\n",
       "      <th>7</th>\n",
       "      <td>Select Amount</td>\n",
       "      <td>1970-04-26 18:46:47+00:00</td>\n",
       "      <td>3</td>\n",
       "    </tr>\n",
       "    <tr>\n",
       "      <th>8</th>\n",
       "      <td>Check For Further Interactions</td>\n",
       "      <td>1970-04-26 18:46:48+00:00</td>\n",
       "      <td>3</td>\n",
       "    </tr>\n",
       "    <tr>\n",
       "      <th>9</th>\n",
       "      <td>Display Balance</td>\n",
       "      <td>1970-04-26 18:46:49+00:00</td>\n",
       "      <td>4</td>\n",
       "    </tr>\n",
       "  </tbody>\n",
       "</table>\n",
       "</div>"
      ],
      "text/plain": [
       "                     concept:name            time:timestamp case:concept:name\n",
       "0                 Display Balance 1970-04-26 18:46:40+00:00                 0\n",
       "1                 Display Balance 1970-04-26 18:46:41+00:00                 1\n",
       "2                     Insert Card 1970-04-26 18:46:42+00:00                 2\n",
       "3              Select Interaction 1970-04-26 18:46:43+00:00                 2\n",
       "4  Check For Further Interactions 1970-04-26 18:46:44+00:00                 2\n",
       "5                     Insert Card 1970-04-26 18:46:45+00:00                 3\n",
       "6              Select Interaction 1970-04-26 18:46:46+00:00                 3\n",
       "7                   Select Amount 1970-04-26 18:46:47+00:00                 3\n",
       "8  Check For Further Interactions 1970-04-26 18:46:48+00:00                 3\n",
       "9                 Display Balance 1970-04-26 18:46:49+00:00                 4"
      ]
     },
     "execution_count": 73,
     "metadata": {},
     "output_type": "execute_result"
    }
   ],
   "source": [
    "log_df.head(10)"
   ]
  },
  {
   "cell_type": "code",
   "execution_count": 74,
   "metadata": {},
   "outputs": [
    {
     "data": {
      "text/plain": [
       "array(['Display Balance', 'Insert Card', 'Select Interaction',\n",
       "       'Check For Further Interactions', 'Select Amount',\n",
       "       'Charge Account', 'Prepare Cash', 'Issue Money'], dtype=object)"
      ]
     },
     "execution_count": 74,
     "metadata": {},
     "output_type": "execute_result"
    }
   ],
   "source": [
    "log_df['concept:name'].unique()\n",
    "\n",
    "# start --> t1 ---> t2 ---> t3/t4 ---> t5 -/ dummy_task /-> stop"
   ]
  },
  {
   "cell_type": "code",
   "execution_count": null,
   "metadata": {},
   "outputs": [],
   "source": []
  }
 ],
 "metadata": {
  "kernelspec": {
   "display_name": "michalmotyl",
   "language": "python",
   "name": "python3"
  },
  "language_info": {
   "codemirror_mode": {
    "name": "ipython",
    "version": 3
   },
   "file_extension": ".py",
   "mimetype": "text/x-python",
   "name": "python",
   "nbconvert_exporter": "python",
   "pygments_lexer": "ipython3",
   "version": "3.8.8"
  },
  "orig_nbformat": 4
 },
 "nbformat": 4,
 "nbformat_minor": 2
}
